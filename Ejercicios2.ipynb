{
  "nbformat": 4,
  "nbformat_minor": 0,
  "metadata": {
    "colab": {
      "provenance": []
    },
    "kernelspec": {
      "name": "python3",
      "display_name": "Python 3"
    },
    "language_info": {
      "name": "python"
    }
  },
  "cells": [
    {
      "cell_type": "code",
      "execution_count": null,
      "metadata": {
        "colab": {
          "base_uri": "https://localhost:8080/"
        },
        "id": "-zZ03nAlgao2",
        "outputId": "ca9008ba-c1b9-4b95-f4ed-54150b4514d6"
      },
      "outputs": [
        {
          "output_type": "stream",
          "name": "stdout",
          "text": [
            "¡Hola, Mundo!\n"
          ]
        }
      ],
      "source": [
        "print('¡Hola, Mundo!')"
      ]
    },
    {
      "cell_type": "code",
      "source": [
        "print('Hola, %s!' % 'Rocío')"
      ],
      "metadata": {
        "colab": {
          "base_uri": "https://localhost:8080/"
        },
        "id": "mCs3xKfzm46B",
        "outputId": "3d4a3961-cb47-43ac-958a-1faa147f7a47"
      },
      "execution_count": null,
      "outputs": [
        {
          "output_type": "stream",
          "name": "stdout",
          "text": [
            "Hola, Rocío!\n"
          ]
        }
      ]
    },
    {
      "cell_type": "code",
      "source": [
        "mensaje = '¡Hola, Mundo!'\n",
        "print(mensaje)"
      ],
      "metadata": {
        "colab": {
          "base_uri": "https://localhost:8080/"
        },
        "id": "gMuSO9d_nwoK",
        "outputId": "0f069d1c-2b0d-45b0-f838-3691205f6622"
      },
      "execution_count": null,
      "outputs": [
        {
          "output_type": "stream",
          "name": "stdout",
          "text": [
            "¡Hola, Mundo!\n"
          ]
        }
      ]
    },
    {
      "cell_type": "code",
      "source": [
        "nombre = input('¿Cuál es tu nombre? ')"
      ],
      "metadata": {
        "colab": {
          "base_uri": "https://localhost:8080/"
        },
        "id": "CQ0SyJfnve3s",
        "outputId": "92660df3-1acb-468b-a88d-dff4b22bf6cc"
      },
      "execution_count": null,
      "outputs": [
        {
          "name": "stdout",
          "output_type": "stream",
          "text": [
            "¿Cuál es tu nombre? Rocío\n"
          ]
        }
      ]
    },
    {
      "cell_type": "code",
      "source": [
        "numero = int(input('Introduce un número entero: '))"
      ],
      "metadata": {
        "colab": {
          "base_uri": "https://localhost:8080/"
        },
        "id": "6-34W0HmvsVW",
        "outputId": "828cce21-fc33-4402-fabf-0302c6d5f220"
      },
      "execution_count": null,
      "outputs": [
        {
          "name": "stdout",
          "output_type": "stream",
          "text": [
            "Introduce un número entero:  8\n"
          ]
        }
      ]
    },
    {
      "cell_type": "code",
      "source": [
        "for _ in range (numero):\n",
        "  print(nombre)"
      ],
      "metadata": {
        "colab": {
          "base_uri": "https://localhost:8080/"
        },
        "id": "Ie4QewQKv9Ml",
        "outputId": "10e5b8cc-0db0-4c17-a6c9-c30c6ccbb233"
      },
      "execution_count": null,
      "outputs": [
        {
          "output_type": "stream",
          "name": "stdout",
          "text": [
            " Rocío\n",
            " Rocío\n",
            " Rocío\n",
            " Rocío\n",
            " Rocío\n",
            " Rocío\n",
            " Rocío\n",
            " Rocío\n"
          ]
        }
      ]
    },
    {
      "cell_type": "code",
      "source": [
        "nombre = 'Rocío'\n",
        "print(nombre)\n",
        "print(id(nombre))\n",
        "print(nombre.upper())"
      ],
      "metadata": {
        "colab": {
          "base_uri": "https://localhost:8080/"
        },
        "id": "DIcIBIp6yg7y",
        "outputId": "9617db23-7d6b-4107-813a-3dbd5500c6a8"
      },
      "execution_count": null,
      "outputs": [
        {
          "output_type": "stream",
          "name": "stdout",
          "text": [
            "Rocío\n",
            "134596898360336\n",
            "ROCÍO\n"
          ]
        }
      ]
    },
    {
      "cell_type": "code",
      "source": [
        "resultado = ((3 + 2) / (2 * 5)) ** 2\n",
        "print(resultado)\n",
        "print(type(resultado))\n",
        "print(id(resultado))"
      ],
      "metadata": {
        "colab": {
          "base_uri": "https://localhost:8080/"
        },
        "id": "VSHPcMt9C5ZU",
        "outputId": "2c3f4a4d-f02c-4366-f42f-a189b71c48c0"
      },
      "execution_count": null,
      "outputs": [
        {
          "output_type": "stream",
          "name": "stdout",
          "text": [
            "0.25\n",
            "<class 'float'>\n",
            "138410654698064\n"
          ]
        }
      ]
    },
    {
      "cell_type": "code",
      "source": [
        "nombre = input('¿Cuál es tu nombre?')\n",
        "nombre_mayus = nombre.upper()\n",
        "num_letras = len(nombre)\n",
        "print(f'{nombre_mayus} tiene {num_letras} letras')\n"
      ],
      "metadata": {
        "colab": {
          "base_uri": "https://localhost:8080/"
        },
        "id": "pSb-DMnS0wLQ",
        "outputId": "fa7499ce-cc60-47b5-e3fa-c77265e0c238"
      },
      "execution_count": null,
      "outputs": [
        {
          "output_type": "stream",
          "name": "stdout",
          "text": [
            "¿Cuál es tu nombre?Rocío\n",
            "ROCÍO tiene 5 letras\n"
          ]
        }
      ]
    },
    {
      "cell_type": "code",
      "source": [
        "telefono = input(\"Introduce el número de teléfono (formato prefijo +34-número-extensión): \")\n",
        "partes = telefono.split('-')\n",
        "numero = partes[1]\n",
        "print(numero)\n",
        "\n",
        "\n"
      ],
      "metadata": {
        "colab": {
          "base_uri": "https://localhost:8080/"
        },
        "id": "F_a4F86VKD0L",
        "outputId": "e1890012-91b7-44ff-a456-aa2c142cdb61"
      },
      "execution_count": null,
      "outputs": [
        {
          "output_type": "stream",
          "name": "stdout",
          "text": [
            "Introduce el número de teléfono (formato prefijo +34-número-extensión): +34-1153173849-54\n",
            "1153173849\n"
          ]
        }
      ]
    },
    {
      "cell_type": "code",
      "source": [
        "horas = float(input('¿Cuántas horas trabaja por día?'))\n",
        "coste = float(input('¿Cuánto es el coste por hora?'))\n",
        "resultado = horas * coste\n",
        "print(f'El salario que te corresponde es de: {resultado:.2f}')"
      ],
      "metadata": {
        "colab": {
          "base_uri": "https://localhost:8080/"
        },
        "id": "glA-3seBQKK2",
        "outputId": "905d7565-20d4-492e-c828-cd422875d878"
      },
      "execution_count": null,
      "outputs": [
        {
          "output_type": "stream",
          "name": "stdout",
          "text": [
            "¿Cuántas horas trabaja por día?9\n",
            "¿Cuánto es el coste por hora?3888\n",
            "El salario que te corresponde es de: 34992.00\n"
          ]
        }
      ]
    },
    {
      "cell_type": "code",
      "source": [
        "peso_monstera_kg = 1.5\n",
        "peso_suculenta_g = 300\n",
        "cant_monsteras = int(input('¿Cuántas monsteras se vendieron?'))\n",
        "cant_suculentas = int(input('¿Cuántas suculentas se vendieron?'))\n",
        "peso_total_monsteras = peso_monstera_kg * cant_monsteras\n",
        "peso_total_suculentas = peso_suculenta_g * cant_suculentas\n",
        "peso_total_kg = peso_total_monsteras + peso_total_suculentas / 1000\n",
        "print(f'El peso total del envío es de {peso_total_kg:.2f} kg')"
      ],
      "metadata": {
        "colab": {
          "base_uri": "https://localhost:8080/"
        },
        "id": "jIY6tFep-F4-",
        "outputId": "b600433a-d266-4199-ee60-74bdeee8c2fd"
      },
      "execution_count": null,
      "outputs": [
        {
          "output_type": "stream",
          "name": "stdout",
          "text": [
            "¿Cuántas monsteras se vendieron?25\n",
            "¿Cuántas suculentas se vendieron?50\n",
            "El peso total del envío es de 52.50 kg\n"
          ]
        }
      ]
    },
    {
      "cell_type": "code",
      "source": [
        "numeros = []\n",
        "for i in range(3):\n",
        "  numero = float(input(f\"Introduce el número {i + 1}: \"))\n",
        "  numeros.append(numero)\n",
        "suma = sum(numeros)\n",
        "producto = 1\n",
        "for numero in numeros:\n",
        "  producto *= numero\n",
        "print(f'La suma de los números es: {suma}')\n",
        "print(f'El producto de los números es: {producto}')\n"
      ],
      "metadata": {
        "colab": {
          "base_uri": "https://localhost:8080/"
        },
        "id": "ye7oT56d9CF5",
        "outputId": "6eed48f3-826b-4de6-9b79-aeb396be9ea9"
      },
      "execution_count": null,
      "outputs": [
        {
          "output_type": "stream",
          "name": "stdout",
          "text": [
            "Introduce el número 1: 2\n",
            "Introduce el número 2: 4\n",
            "Introduce el número 3: 6\n",
            "La suma de los números es: 12.0\n",
            "El producto de los números es: 48.0\n"
          ]
        }
      ]
    },
    {
      "cell_type": "code",
      "source": [
        "candidatos = ['De Gasperi', 'Nenni', 'Brosio', 'Giannini', 'Pacciardi']\n",
        "print('El primer candidatos es:', candidatos[0])\n",
        "print('El primer candidatos es:', candidatos[1])\n",
        "print('El primer candidatos es:', candidatos[-1])"
      ],
      "metadata": {
        "colab": {
          "base_uri": "https://localhost:8080/"
        },
        "id": "RL413Zv0wR7u",
        "outputId": "7c66e352-7d03-449b-82ca-b604b0c086b5"
      },
      "execution_count": null,
      "outputs": [
        {
          "output_type": "stream",
          "name": "stdout",
          "text": [
            "El primer candidatos es: De Gasperi\n",
            "El primer candidatos es: Nenni\n",
            "El primer candidatos es: Pacciardi\n"
          ]
        }
      ]
    },
    {
      "cell_type": "code",
      "source": [
        "anio = [1990, 1991, 1992, 1993, 1994, 1995, 1996, 1997, 1998, 1999]\n",
        "porcentaje = [2314, 84, 17.5, 7.4, 3.9, 1.6 , 0.1, 0.3, 0.7, -1.2]\n",
        "diccionario = dict(zip(anio, porcentaje))\n",
        "print(diccionario)\n"
      ],
      "metadata": {
        "colab": {
          "base_uri": "https://localhost:8080/"
        },
        "id": "rrvPWYZ97FpH",
        "outputId": "594e012e-efda-4d01-99ee-85b68916d633"
      },
      "execution_count": null,
      "outputs": [
        {
          "output_type": "stream",
          "name": "stdout",
          "text": [
            "{1990: 2314, 1991: 84, 1992: 17.5, 1993: 7.4, 1994: 3.9, 1995: 1.6, 1996: 0.1, 1997: 0.3, 1998: 0.7, 1999: -1.2}\n"
          ]
        }
      ]
    },
    {
      "cell_type": "code",
      "source": [
        "personas = {\n",
        "    \"40663492\": \"Rocío\",\n",
        "    \"41669540\": \"Guadalupe\",\n",
        "    \"44338194\": \"Lucía\",\n",
        "    \"16938363\": \"Juan\",\n",
        "    \"14313549\": \"Nélida\"\n",
        "\n",
        "}\n",
        "dni = personas.keys()\n",
        "print(\"DNI:\", list(dni))\n",
        "nombres = personas.values()\n",
        "print(\"NOMBRES\", list(nombres))\n",
        "dni_nombres = personas.items()\n",
        "print(\"DNI y NOMBRES\", list(dni_nombres))"
      ],
      "metadata": {
        "id": "7xEbuouo8C_e",
        "colab": {
          "base_uri": "https://localhost:8080/"
        },
        "outputId": "95cb46f8-66e2-4d75-9e9b-095fcf5a26e0"
      },
      "execution_count": null,
      "outputs": [
        {
          "output_type": "stream",
          "name": "stdout",
          "text": [
            "DNI: ['40663492', '41669540', '44338194', '16938363', '14313549']\n",
            "NOMBRES ['Rocío', 'Guadalupe', 'Lucía', 'Juan', 'Nélida']\n",
            "DNI y NOMBRES [('40663492', 'Rocío'), ('41669540', 'Guadalupe'), ('44338194', 'Lucía'), ('16938363', 'Juan'), ('14313549', 'Nélida')]\n"
          ]
        }
      ]
    },
    {
      "cell_type": "code",
      "source": [
        "poblacion = {'Caba' : 2890151, 'Pba' : 15625084, 'Catamarca' :367828, 'Cordoba': 3308876}\n",
        "print(poblacion.pop('Caba'))\n",
        "poblacion['Pba'] = 2755963\n",
        "poblacion['Corrientes'] = 992525\n",
        "print(poblacion)"
      ],
      "metadata": {
        "colab": {
          "base_uri": "https://localhost:8080/"
        },
        "id": "zphr6g9IX-fj",
        "outputId": "f494e608-c4bb-49c4-f468-1e4cffae123b"
      },
      "execution_count": null,
      "outputs": [
        {
          "output_type": "stream",
          "name": "stdout",
          "text": [
            "2890151\n",
            "{'Pba': 2755963, 'Catamarca': 367828, 'Cordoba': 3308876, 'Corrientes': 992525}\n"
          ]
        }
      ]
    },
    {
      "cell_type": "code",
      "source": [
        "candidatos = {\n",
        "  \"CandidatoA\" : {\n",
        "    \"nombre\" : \"Tony\",\n",
        "    \"apellido\": \"Blair\",\n",
        "    \"anio\" : 1953\n",
        "  },\n",
        "  \"CandidatoB\" : {\n",
        "    \"nombre\" : \"William\",\n",
        "    \"apellido\": \"Hague\",\n",
        "    \"anio\" : 1961\n",
        "  },\n",
        "  \"CandidatoC\" : {\n",
        "    \"nombre\" : \"Charles\",\n",
        "    \"apellido\": \"Kennedy\",\n",
        "    \"anio\" : 1959\n",
        "  }\n",
        "}\n",
        "print(candidatos['CandidatoA']['nombre'])\n",
        "print(candidatos['CandidatoB']['anio'])\n",
        "print(candidatos['CandidatoC']['apellido'])\n",
        "if 'CandidatoD' in candidatos:\n",
        "    print(candidatos['CandidatoD']['apellido'])\n",
        "    print('CandidatoD encontrado')\n",
        "else:\n",
        "    print('No existe')\n",
        "suma_anios = candidatos['CandidatoA']['anio'] + candidatos['CandidatoB']['anio'] + candidatos['CandidatoC']['anio']\n",
        "print(suma_anios)"
      ],
      "metadata": {
        "colab": {
          "base_uri": "https://localhost:8080/"
        },
        "id": "LosbIdSfnNo7",
        "outputId": "963c165a-7f1f-4d7d-dcb6-1cc4e3288230"
      },
      "execution_count": null,
      "outputs": [
        {
          "output_type": "stream",
          "name": "stdout",
          "text": [
            "Tony\n",
            "1961\n",
            "Kennedy\n",
            "No existe\n",
            "5873\n"
          ]
        }
      ]
    },
    {
      "cell_type": "code",
      "source": [
        "elecciones_2019 = {}\n",
        "elecciones_2019['Alberto Fernandez'] = 12946037\n",
        "elecciones_2019['Mauricio Macri'] = 10811586\n",
        "elecciones_2019['Roberto Lavagna'] = 1649322\n",
        "elecciones_2019['Nicolás del Caño'] = 579228\n",
        "elecciones_2019['Juan José Gómez Centurión'] = 457956\n",
        "elecciones_2019['José Luis Espert'] = 394207\n",
        "print(elecciones_2019.get(input('Introduce el nombre del candidato ')))"
      ],
      "metadata": {
        "colab": {
          "base_uri": "https://localhost:8080/"
        },
        "id": "_oaosSAv0z0w",
        "outputId": "1373bf6f-32b0-4e36-cf1f-2aa8b5d7ed7c"
      },
      "execution_count": null,
      "outputs": [
        {
          "output_type": "stream",
          "name": "stdout",
          "text": [
            "Introduce el nombre del candidato Javier Milei\n",
            "None\n"
          ]
        }
      ]
    }
  ]
}